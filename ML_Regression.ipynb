{
 "cells": [
  {
   "cell_type": "markdown",
   "source": [
    "First We Clean the Dataset"
   ],
   "metadata": {
    "collapsed": false
   },
   "id": "3ec3492c230a5636"
  },
  {
   "cell_type": "code",
   "execution_count": 28,
   "id": "initial_id",
   "metadata": {
    "collapsed": true,
    "ExecuteTime": {
     "end_time": "2024-05-27T10:31:44.061256900Z",
     "start_time": "2024-05-27T10:31:43.906844300Z"
    }
   },
   "outputs": [
    {
     "name": "stdout",
     "output_type": "stream",
     "text": [
      "<class 'pandas.core.frame.DataFrame'>\n",
      "RangeIndex: 10167 entries, 0 to 10166\n",
      "Data columns (total 20 columns):\n",
      " #   Column                    Non-Null Count  Dtype  \n",
      "---  ------                    --------------  -----  \n",
      " 0   CLIENTNUM                 10167 non-null  int64  \n",
      " 1   Customer_Age              10167 non-null  float64\n",
      " 2   Gender                    9968 non-null   object \n",
      " 3   Dependent_count           10167 non-null  int64  \n",
      " 4   Education_Level           10167 non-null  object \n",
      " 5   Marital_Status            8217 non-null   object \n",
      " 6   Income_Category           10167 non-null  object \n",
      " 7   Card_Category             8243 non-null   object \n",
      " 8   Months_on_book            9944 non-null   float64\n",
      " 9   Total_Relationship_Count  10147 non-null  float64\n",
      " 10  Months_Inactive_12_mon    10167 non-null  int64  \n",
      " 11  Contacts_Count_12_mon     10167 non-null  int64  \n",
      " 12  Credit_Limit              10167 non-null  float64\n",
      " 13  Total_Revolving_Bal       10167 non-null  int64  \n",
      " 14  Total_Amt_Chng_Q4_Q1      10167 non-null  float64\n",
      " 15  Total_Trans_Amt           10167 non-null  int64  \n",
      " 16  Total_Trans_Ct            10167 non-null  int64  \n",
      " 17  Total_Ct_Chng_Q4_Q1       10167 non-null  float64\n",
      " 18  Avg_Utilization_Ratio     10167 non-null  float64\n",
      " 19  Unnamed: 19               0 non-null      float64\n",
      "dtypes: float64(8), int64(7), object(5)\n",
      "memory usage: 1.6+ MB\n"
     ]
    }
   ],
   "source": [
    "import pandas as pd\n",
    "\n",
    "df = pd.read_csv('CreditPrediction.csv')\n",
    "\n",
    "df.info()\n",
    "\n",
    "# all the data in 'Unnamed: 19' column is zero, so we delete this column\n",
    "df.drop('Unnamed: 19', axis=1, inplace=True) \n",
    "df.drop('CLIENTNUM', axis=1, inplace=True) \n"
   ]
  },
  {
   "cell_type": "markdown",
   "source": [
    "- Now we want to fill the NaN cells with Column-Mean \n",
    "- And delete duplicated data"
   ],
   "metadata": {
    "collapsed": false
   },
   "id": "803c17dde6f585a3"
  },
  {
   "cell_type": "code",
   "outputs": [
    {
     "name": "stdout",
     "output_type": "stream",
     "text": [
      "<class 'pandas.core.frame.DataFrame'>\n",
      "Index: 10128 entries, 0 to 10128\n",
      "Data columns (total 18 columns):\n",
      " #   Column                    Non-Null Count  Dtype  \n",
      "---  ------                    --------------  -----  \n",
      " 0   Customer_Age              10128 non-null  float64\n",
      " 1   Gender                    10128 non-null  object \n",
      " 2   Dependent_count           10128 non-null  int64  \n",
      " 3   Education_Level           10128 non-null  object \n",
      " 4   Marital_Status            10128 non-null  object \n",
      " 5   Income_Category           10128 non-null  object \n",
      " 6   Card_Category             10128 non-null  object \n",
      " 7   Months_on_book            10128 non-null  float64\n",
      " 8   Total_Relationship_Count  10128 non-null  float64\n",
      " 9   Months_Inactive_12_mon    10128 non-null  int64  \n",
      " 10  Contacts_Count_12_mon     10128 non-null  int64  \n",
      " 11  Credit_Limit              10128 non-null  float64\n",
      " 12  Total_Revolving_Bal       10128 non-null  int64  \n",
      " 13  Total_Amt_Chng_Q4_Q1      10128 non-null  float64\n",
      " 14  Total_Trans_Amt           10128 non-null  int64  \n",
      " 15  Total_Trans_Ct            10128 non-null  int64  \n",
      " 16  Total_Ct_Chng_Q4_Q1       10128 non-null  float64\n",
      " 17  Avg_Utilization_Ratio     10128 non-null  float64\n",
      "dtypes: float64(7), int64(6), object(5)\n",
      "memory usage: 1.5+ MB\n"
     ]
    }
   ],
   "source": [
    "df['Gender'] = df['Gender'].fillna(df['Gender'].mode()[0])\n",
    "df['Marital_Status'] = df['Marital_Status'].fillna(df['Marital_Status'].mode()[0])\n",
    "df['Card_Category'] = df['Card_Category'].fillna(df['Card_Category'].mode()[0])\n",
    "df['Months_on_book'] = df['Months_on_book'].fillna(df['Months_on_book'].mean().round())\n",
    "df['Total_Relationship_Count'] = df['Total_Relationship_Count'].fillna(df['Total_Relationship_Count'].mean().round())\n",
    "\n",
    "df = df.drop_duplicates()\n",
    "df.info()"
   ],
   "metadata": {
    "collapsed": false,
    "ExecuteTime": {
     "end_time": "2024-05-27T10:31:44.956576900Z",
     "start_time": "2024-05-27T10:31:44.872047900Z"
    }
   },
   "id": "e9f86d79c1e86237",
   "execution_count": 29
  },
  {
   "cell_type": "markdown",
   "source": [
    "- We convert Non-Numerical data to Numerical data"
   ],
   "metadata": {
    "collapsed": false
   },
   "id": "472defd52dc90130"
  },
  {
   "cell_type": "code",
   "outputs": [
    {
     "data": {
      "text/plain": "count    10128.000000\nmean        46.759188\nstd         13.540138\nmin         26.000000\n25%         41.000000\n50%         46.000000\n75%         52.000000\nmax        352.330517\nName: Customer_Age, dtype: float64"
     },
     "execution_count": 30,
     "metadata": {},
     "output_type": "execute_result"
    }
   ],
   "source": [
    "# Encoding Features Using Mapping\n",
    "df['Gender'] = df['Gender'].map({'F': 0, 'M': 1})\n",
    "\n",
    "# Encoding Non-Sequential Features Using One-Hot Encoding\n",
    "df['Education_Level'] = df['Education_Level'].replace(\"Unknown\", df['Education_Level'].mode()[0])\n",
    "df_encoded = pd.get_dummies(df['Education_Level'], prefix='Education_Level')\n",
    "df_encoded = df_encoded.astype(int)\n",
    "df = pd.concat([df, df_encoded], axis=1)\n",
    "df.drop('Education_Level', axis=1, inplace=True)\n",
    "\n",
    "df['Income_Category'] = df['Income_Category'].replace(\"Unknown\", df['Income_Category'].mode()[0])\n",
    "df_encoded = pd.get_dummies(df['Income_Category'], prefix='Income_Category')\n",
    "df_encoded = df_encoded.astype(int)\n",
    "df = pd.concat([df, df_encoded], axis=1)\n",
    "df.drop('Income_Category', axis=1, inplace=True)\n",
    "\n",
    "\n",
    "df['Marital_Status'] = df['Marital_Status'].replace(\"Unknown\", df['Marital_Status'].mode()[0])\n",
    "df_encoded = pd.get_dummies(df['Marital_Status'], prefix='Marital_Status')\n",
    "df_encoded = df_encoded.astype(int)\n",
    "df = pd.concat([df, df_encoded], axis=1)\n",
    "df.drop('Marital_Status', axis=1, inplace=True)\n",
    "\n",
    "df_encoded = pd.get_dummies(df['Card_Category'], prefix='Card_Category')\n",
    "df_encoded = df_encoded.astype(int)\n",
    "df = pd.concat([df, df_encoded], axis=1)\n",
    "df.drop('Card_Category', axis=1, inplace=True)\n",
    "\n",
    "df['Customer_Age'].describe()"
   ],
   "metadata": {
    "collapsed": false,
    "ExecuteTime": {
     "end_time": "2024-05-27T10:31:46.134510800Z",
     "start_time": "2024-05-27T10:31:45.936967500Z"
    }
   },
   "id": "f460775515a50d29",
   "execution_count": 30
  },
  {
   "cell_type": "markdown",
   "source": [
    "- Handling Outlier Data"
   ],
   "metadata": {
    "collapsed": false
   },
   "id": "86f0185dc5f88aa4"
  },
  {
   "cell_type": "code",
   "outputs": [
    {
     "data": {
      "text/plain": "count    10128.000000\nmean        46.307859\nstd          8.004431\nmin         26.000000\n25%         41.000000\n50%         46.000000\n75%         52.000000\nmax         68.000000\nName: Customer_Age, dtype: float64"
     },
     "execution_count": 37,
     "metadata": {},
     "output_type": "execute_result"
    }
   ],
   "source": [
    "# Define a function to replace outliers with the mode of each column using IQR\n",
    "def replace_outliers_with_mode_iqr(data):\n",
    "    # Initialize an empty DataFrame to store the results\n",
    "    result = pd.DataFrame(index=data.index, columns=data.columns)\n",
    "\n",
    "    # Loop through each column in the DataFrame\n",
    "    for col in data.columns:\n",
    "        Q1 = data[col].quantile(0.25)  # 25th percentile (Q1)\n",
    "        Q3 = data[col].quantile(0.75)  # 75th percentile (Q3)\n",
    "        IQR = Q3 - Q1  # Interquartile Range (IQR)\n",
    "        lower_bound = Q1 - 1.5 * IQR  # Lower bound for outliers\n",
    "        upper_bound = Q3 + 1.5 * IQR  # Upper bound for outliers\n",
    "\n",
    "        # Replace outliers with mode for the current column\n",
    "        mode_val = data.loc[(data[col] >= lower_bound) & (data[col] <= upper_bound), col].mean()\n",
    "        result[col] = data[col].apply(lambda x: mode_val if x < lower_bound or x > upper_bound else x)\n",
    "\n",
    "    return result\n",
    "\n",
    "# Apply the function to replace outliers with mode for each column separately\n",
    "df = replace_outliers_with_mode_iqr(df)\n",
    "df['Customer_Age'].describe()"
   ],
   "metadata": {
    "collapsed": false,
    "ExecuteTime": {
     "end_time": "2024-05-27T10:55:33.340934300Z",
     "start_time": "2024-05-27T10:55:32.852877700Z"
    }
   },
   "id": "9ecb63cda60184e6",
   "execution_count": 37
  },
  {
   "cell_type": "markdown",
   "source": [
    "- Normalizing Data"
   ],
   "metadata": {
    "collapsed": false
   },
   "id": "25c414b528273286"
  },
  {
   "cell_type": "code",
   "outputs": [
    {
     "data": {
      "text/plain": "count    7.596000e+03\nmean    -3.680866e-16\nstd      1.000066e+00\nmin     -2.540762e+00\n25%     -6.615627e-01\n50%     -3.516284e-02\n75%      7.165170e-01\nmax      2.720997e+00\nName: Customer_Age, dtype: float64"
     },
     "execution_count": 32,
     "metadata": {},
     "output_type": "execute_result"
    }
   ],
   "source": [
    "from sklearn.preprocessing import StandardScaler\n",
    "from sklearn.model_selection import train_test_split\n",
    "\n",
    "# Initialize StandardScaler\n",
    "scaler = StandardScaler()\n",
    "\n",
    "Y = df['Credit_Limit']\n",
    "df.drop('Credit_Limit', axis=1, inplace=True)\n",
    "\n",
    "X = df\n",
    "\n",
    "X_train, X_test, Y_train, Y_test = train_test_split(X, Y, test_size = 0.1, shuffle=True)\n",
    "\n",
    "# Apply Standard scaling to the DataFrame\n",
    "X_train = pd.DataFrame(scaler.fit_transform(X_train), columns=X_train.columns)\n",
    "\n",
    "X_test = pd.DataFrame(scaler.transform(X_test), columns=X_test.columns)\n",
    "\n",
    "X_train['Customer_Age'].describe()"
   ],
   "metadata": {
    "collapsed": false,
    "ExecuteTime": {
     "end_time": "2024-05-27T10:31:48.389002800Z",
     "start_time": "2024-05-27T10:31:48.249088700Z"
    }
   },
   "id": "8d91dccd0ecdb526",
   "execution_count": 32
  },
  {
   "cell_type": "markdown",
   "source": [
    "Regression Models"
   ],
   "metadata": {
    "collapsed": false
   },
   "id": "931c96c2bf65d9ea"
  },
  {
   "cell_type": "markdown",
   "source": [
    "- Linear Regression"
   ],
   "metadata": {
    "collapsed": false
   },
   "id": "127d45da9a1b985"
  },
  {
   "cell_type": "code",
   "outputs": [
    {
     "name": "stdout",
     "output_type": "stream",
     "text": [
      "MSE :  19117455.042649165\n",
      "R2 :  0.27390875457790964\n"
     ]
    }
   ],
   "source": [
    "from sklearn.linear_model import LinearRegression\n",
    "from sklearn.metrics import mean_squared_error, r2_score\n",
    "\n",
    "linear_regression = LinearRegression()\n",
    "\n",
    "linear_regression.fit(X_train, Y_train)\n",
    "\n",
    "Y_pred_LR = linear_regression.predict(X_test)\n",
    "\n",
    "mse_LR = mean_squared_error(Y_test, Y_pred_LR)\n",
    "r2_LR = r2_score(Y_test, Y_pred_LR)\n",
    "\n",
    "print(\"MSE : \", mse_LR)\n",
    "print(\"R2 : \", r2_LR)"
   ],
   "metadata": {
    "collapsed": false,
    "ExecuteTime": {
     "end_time": "2024-05-27T10:31:50.789301400Z",
     "start_time": "2024-05-27T10:31:50.561641400Z"
    }
   },
   "id": "9492844535862068",
   "execution_count": 33
  },
  {
   "cell_type": "markdown",
   "source": [
    "- Polynomial Regression with Ridge"
   ],
   "metadata": {
    "collapsed": false
   },
   "id": "ba2af3568ad73140"
  },
  {
   "cell_type": "code",
   "outputs": [
    {
     "name": "stdout",
     "output_type": "stream",
     "text": [
      "18491116.56936586\n",
      "0.29769742734358273\n"
     ]
    }
   ],
   "source": [
    "from sklearn.preprocessing import PolynomialFeatures\n",
    "from sklearn.linear_model import Ridge\n",
    "\n",
    "\n",
    "poly = PolynomialFeatures(degree=2)\n",
    "\n",
    "X_train_poly = poly.fit_transform(X_train)\n",
    "\n",
    "X_test_poly = poly.transform(X_test)\n",
    "\n",
    "ridge = Ridge()\n",
    "ridge.fit(X_train_poly, Y_train)\n",
    "\n",
    "Y_pred_poly = ridge.predict(X_test_poly)\n",
    "\n",
    "\n",
    "mse_poly = mean_squared_error(Y_test, Y_pred_poly)\n",
    "r2_poly = r2_score(Y_test, Y_pred_poly)\n",
    "\n",
    "print(mse_poly)\n",
    "print(r2_poly)"
   ],
   "metadata": {
    "collapsed": false,
    "ExecuteTime": {
     "end_time": "2024-05-27T10:31:53.118618600Z",
     "start_time": "2024-05-27T10:31:52.215226600Z"
    }
   },
   "id": "c9187a5a76268bd0",
   "execution_count": 34
  },
  {
   "cell_type": "markdown",
   "source": [
    "- Gradient Boosting"
   ],
   "metadata": {
    "collapsed": false
   },
   "id": "7181a3b84c64b0a3"
  },
  {
   "cell_type": "code",
   "outputs": [
    {
     "name": "stdout",
     "output_type": "stream",
     "text": [
      "MSE :  10951911.764001306\n",
      "R2 :  0.5840404889282478\n"
     ]
    }
   ],
   "source": [
    "from sklearn.ensemble import GradientBoostingRegressor\n",
    "\n",
    "gb = GradientBoostingRegressor()\n",
    "\n",
    "gb.fit(X_train, Y_train)\n",
    "\n",
    "Y_pred_gb = gb.predict(X_test)\n",
    "\n",
    "mse_gb = mean_squared_error(Y_test, Y_pred_gb)\n",
    "r2_gb = r2_score(Y_test, Y_pred_gb)\n",
    "\n",
    "print(\"MSE : \", mse_gb)\n",
    "print(\"R2 : \", r2_gb)"
   ],
   "metadata": {
    "collapsed": false,
    "ExecuteTime": {
     "end_time": "2024-05-27T10:31:59.341839200Z",
     "start_time": "2024-05-27T10:31:54.228352100Z"
    }
   },
   "id": "5c97d365c8adb0d4",
   "execution_count": 35
  },
  {
   "cell_type": "markdown",
   "source": [
    "- Random Forest"
   ],
   "metadata": {
    "collapsed": false
   },
   "id": "9a096993cd53c577"
  },
  {
   "cell_type": "code",
   "outputs": [
    {
     "name": "stdout",
     "output_type": "stream",
     "text": [
      "MSE :  8087351.885429399\n",
      "R2 :  0.6928380169035093\n"
     ]
    }
   ],
   "source": [
    "from sklearn.ensemble import RandomForestRegressor\n",
    "\n",
    "random_forest = RandomForestRegressor(n_estimators=100, max_depth=15, random_state=10)\n",
    "\n",
    "random_forest.fit(X_train, Y_train)\n",
    "\n",
    "Y_pred_rf = random_forest.predict(X_test)\n",
    "\n",
    "mse_rf = mean_squared_error(Y_test, Y_pred_rf)\n",
    "r2_rf = r2_score(Y_test, Y_pred_rf)\n",
    "\n",
    "print(\"MSE : \", mse_rf)\n",
    "print(\"R2 : \", r2_rf)"
   ],
   "metadata": {
    "collapsed": false,
    "ExecuteTime": {
     "end_time": "2024-05-27T10:32:09.248626700Z",
     "start_time": "2024-05-27T10:31:59.342099Z"
    }
   },
   "id": "7fb125fc593af1d5",
   "execution_count": 36
  }
 ],
 "metadata": {
  "kernelspec": {
   "display_name": "Python 3",
   "language": "python",
   "name": "python3"
  },
  "language_info": {
   "codemirror_mode": {
    "name": "ipython",
    "version": 2
   },
   "file_extension": ".py",
   "mimetype": "text/x-python",
   "name": "python",
   "nbconvert_exporter": "python",
   "pygments_lexer": "ipython2",
   "version": "2.7.6"
  }
 },
 "nbformat": 4,
 "nbformat_minor": 5
}
