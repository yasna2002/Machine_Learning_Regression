{
 "cells": [
  {
   "cell_type": "markdown",
   "source": [
    "First We Clean the Dataset"
   ],
   "metadata": {
    "collapsed": false
   },
   "id": "3ec3492c230a5636"
  },
  {
   "cell_type": "code",
   "execution_count": 77,
   "id": "initial_id",
   "metadata": {
    "collapsed": true,
    "ExecuteTime": {
     "end_time": "2024-05-20T21:46:31.086174300Z",
     "start_time": "2024-05-20T21:46:30.997354300Z"
    }
   },
   "outputs": [
    {
     "data": {
      "text/plain": "       CLIENTNUM  Customer_Age Gender  Dependent_count Education_Level  \\\n0      768805383          45.0      M                3     High School   \n1      818770008          49.0      F                5        Graduate   \n2      713982108          51.0      M                3        Graduate   \n3      769911858          40.0      F                4     High School   \n4      709106358          40.0      M                3      Uneducated   \n...          ...           ...    ...              ...             ...   \n10162  718673358          35.0      M                3       Doctorate   \n10163  715207458          46.0      F                1         Unknown   \n10164  803665983          52.0      M                0         Unknown   \n10165  713183508          39.0      F                1     High School   \n10166  718893333          52.0      M                3        Graduate   \n\n      Marital_Status Income_Category Card_Category  Months_on_book  \\\n0            Married     $60K - $80K          Blue            39.0   \n1                NaN  Less than $40K          Blue            44.0   \n2            Married    $80K - $120K          Blue            36.0   \n3                NaN  Less than $40K          Blue            34.0   \n4            Married     $60K - $80K           NaN            21.0   \n...              ...             ...           ...             ...   \n10162            NaN    $80K - $120K          Blue            30.0   \n10163         Single  Less than $40K          Blue            39.0   \n10164            NaN     $60K - $80K          Blue            46.0   \n10165            NaN         Unknown           NaN            36.0   \n10166            NaN     $60K - $80K          Blue            36.0   \n\n       Total_Relationship_Count  Months_Inactive_12_mon  \\\n0                           5.0                       1   \n1                           6.0                       1   \n2                           4.0                       1   \n3                           3.0                       4   \n4                           5.0                       1   \n...                         ...                     ...   \n10162                       5.0                       3   \n10163                       2.0                       2   \n10164                       3.0                       2   \n10165                       1.0                       3   \n10166                       3.0                       3   \n\n       Contacts_Count_12_mon  Credit_Limit  Total_Revolving_Bal  \\\n0                          3       12691.0                  777   \n1                          2        8256.0                  864   \n2                          0        3418.0                    0   \n3                          1        3313.0                 2517   \n4                          0        4716.0                    0   \n...                      ...           ...                  ...   \n10162                      4       13590.0                 1528   \n10163                      1        2029.0                 1074   \n10164                      4        2742.0                 2184   \n10165                      2        2751.0                 1158   \n10166                      2       18336.0                 2077   \n\n       Total_Amt_Chng_Q4_Q1  Total_Trans_Amt  Total_Trans_Ct  \\\n0                     1.335             1144              42   \n1                     1.541             1291              33   \n2                     2.594             1887              20   \n3                     1.405             1171              20   \n4                     2.175              816              28   \n...                     ...              ...             ...   \n10162                 0.728             2137              52   \n10163                 0.514             4802              90   \n10164                 0.592             3829              72   \n10165                 0.821             4861              82   \n10166                 0.718             7509              84   \n\n       Total_Ct_Chng_Q4_Q1  Avg_Utilization_Ratio  \n0                    1.625                  0.061  \n1                    3.714                  0.105  \n2                    2.333                  0.000  \n3                    2.333                  0.760  \n4                    2.500                  0.000  \n...                    ...                    ...  \n10162                0.486                  0.112  \n10163                0.800                  0.529  \n10164                0.532                  0.796  \n10165                0.822                  0.421  \n10166                0.647                  0.113  \n\n[10167 rows x 19 columns]",
      "text/html": "<div>\n<style scoped>\n    .dataframe tbody tr th:only-of-type {\n        vertical-align: middle;\n    }\n\n    .dataframe tbody tr th {\n        vertical-align: top;\n    }\n\n    .dataframe thead th {\n        text-align: right;\n    }\n</style>\n<table border=\"1\" class=\"dataframe\">\n  <thead>\n    <tr style=\"text-align: right;\">\n      <th></th>\n      <th>CLIENTNUM</th>\n      <th>Customer_Age</th>\n      <th>Gender</th>\n      <th>Dependent_count</th>\n      <th>Education_Level</th>\n      <th>Marital_Status</th>\n      <th>Income_Category</th>\n      <th>Card_Category</th>\n      <th>Months_on_book</th>\n      <th>Total_Relationship_Count</th>\n      <th>Months_Inactive_12_mon</th>\n      <th>Contacts_Count_12_mon</th>\n      <th>Credit_Limit</th>\n      <th>Total_Revolving_Bal</th>\n      <th>Total_Amt_Chng_Q4_Q1</th>\n      <th>Total_Trans_Amt</th>\n      <th>Total_Trans_Ct</th>\n      <th>Total_Ct_Chng_Q4_Q1</th>\n      <th>Avg_Utilization_Ratio</th>\n    </tr>\n  </thead>\n  <tbody>\n    <tr>\n      <th>0</th>\n      <td>768805383</td>\n      <td>45.0</td>\n      <td>M</td>\n      <td>3</td>\n      <td>High School</td>\n      <td>Married</td>\n      <td>$60K - $80K</td>\n      <td>Blue</td>\n      <td>39.0</td>\n      <td>5.0</td>\n      <td>1</td>\n      <td>3</td>\n      <td>12691.0</td>\n      <td>777</td>\n      <td>1.335</td>\n      <td>1144</td>\n      <td>42</td>\n      <td>1.625</td>\n      <td>0.061</td>\n    </tr>\n    <tr>\n      <th>1</th>\n      <td>818770008</td>\n      <td>49.0</td>\n      <td>F</td>\n      <td>5</td>\n      <td>Graduate</td>\n      <td>NaN</td>\n      <td>Less than $40K</td>\n      <td>Blue</td>\n      <td>44.0</td>\n      <td>6.0</td>\n      <td>1</td>\n      <td>2</td>\n      <td>8256.0</td>\n      <td>864</td>\n      <td>1.541</td>\n      <td>1291</td>\n      <td>33</td>\n      <td>3.714</td>\n      <td>0.105</td>\n    </tr>\n    <tr>\n      <th>2</th>\n      <td>713982108</td>\n      <td>51.0</td>\n      <td>M</td>\n      <td>3</td>\n      <td>Graduate</td>\n      <td>Married</td>\n      <td>$80K - $120K</td>\n      <td>Blue</td>\n      <td>36.0</td>\n      <td>4.0</td>\n      <td>1</td>\n      <td>0</td>\n      <td>3418.0</td>\n      <td>0</td>\n      <td>2.594</td>\n      <td>1887</td>\n      <td>20</td>\n      <td>2.333</td>\n      <td>0.000</td>\n    </tr>\n    <tr>\n      <th>3</th>\n      <td>769911858</td>\n      <td>40.0</td>\n      <td>F</td>\n      <td>4</td>\n      <td>High School</td>\n      <td>NaN</td>\n      <td>Less than $40K</td>\n      <td>Blue</td>\n      <td>34.0</td>\n      <td>3.0</td>\n      <td>4</td>\n      <td>1</td>\n      <td>3313.0</td>\n      <td>2517</td>\n      <td>1.405</td>\n      <td>1171</td>\n      <td>20</td>\n      <td>2.333</td>\n      <td>0.760</td>\n    </tr>\n    <tr>\n      <th>4</th>\n      <td>709106358</td>\n      <td>40.0</td>\n      <td>M</td>\n      <td>3</td>\n      <td>Uneducated</td>\n      <td>Married</td>\n      <td>$60K - $80K</td>\n      <td>NaN</td>\n      <td>21.0</td>\n      <td>5.0</td>\n      <td>1</td>\n      <td>0</td>\n      <td>4716.0</td>\n      <td>0</td>\n      <td>2.175</td>\n      <td>816</td>\n      <td>28</td>\n      <td>2.500</td>\n      <td>0.000</td>\n    </tr>\n    <tr>\n      <th>...</th>\n      <td>...</td>\n      <td>...</td>\n      <td>...</td>\n      <td>...</td>\n      <td>...</td>\n      <td>...</td>\n      <td>...</td>\n      <td>...</td>\n      <td>...</td>\n      <td>...</td>\n      <td>...</td>\n      <td>...</td>\n      <td>...</td>\n      <td>...</td>\n      <td>...</td>\n      <td>...</td>\n      <td>...</td>\n      <td>...</td>\n      <td>...</td>\n    </tr>\n    <tr>\n      <th>10162</th>\n      <td>718673358</td>\n      <td>35.0</td>\n      <td>M</td>\n      <td>3</td>\n      <td>Doctorate</td>\n      <td>NaN</td>\n      <td>$80K - $120K</td>\n      <td>Blue</td>\n      <td>30.0</td>\n      <td>5.0</td>\n      <td>3</td>\n      <td>4</td>\n      <td>13590.0</td>\n      <td>1528</td>\n      <td>0.728</td>\n      <td>2137</td>\n      <td>52</td>\n      <td>0.486</td>\n      <td>0.112</td>\n    </tr>\n    <tr>\n      <th>10163</th>\n      <td>715207458</td>\n      <td>46.0</td>\n      <td>F</td>\n      <td>1</td>\n      <td>Unknown</td>\n      <td>Single</td>\n      <td>Less than $40K</td>\n      <td>Blue</td>\n      <td>39.0</td>\n      <td>2.0</td>\n      <td>2</td>\n      <td>1</td>\n      <td>2029.0</td>\n      <td>1074</td>\n      <td>0.514</td>\n      <td>4802</td>\n      <td>90</td>\n      <td>0.800</td>\n      <td>0.529</td>\n    </tr>\n    <tr>\n      <th>10164</th>\n      <td>803665983</td>\n      <td>52.0</td>\n      <td>M</td>\n      <td>0</td>\n      <td>Unknown</td>\n      <td>NaN</td>\n      <td>$60K - $80K</td>\n      <td>Blue</td>\n      <td>46.0</td>\n      <td>3.0</td>\n      <td>2</td>\n      <td>4</td>\n      <td>2742.0</td>\n      <td>2184</td>\n      <td>0.592</td>\n      <td>3829</td>\n      <td>72</td>\n      <td>0.532</td>\n      <td>0.796</td>\n    </tr>\n    <tr>\n      <th>10165</th>\n      <td>713183508</td>\n      <td>39.0</td>\n      <td>F</td>\n      <td>1</td>\n      <td>High School</td>\n      <td>NaN</td>\n      <td>Unknown</td>\n      <td>NaN</td>\n      <td>36.0</td>\n      <td>1.0</td>\n      <td>3</td>\n      <td>2</td>\n      <td>2751.0</td>\n      <td>1158</td>\n      <td>0.821</td>\n      <td>4861</td>\n      <td>82</td>\n      <td>0.822</td>\n      <td>0.421</td>\n    </tr>\n    <tr>\n      <th>10166</th>\n      <td>718893333</td>\n      <td>52.0</td>\n      <td>M</td>\n      <td>3</td>\n      <td>Graduate</td>\n      <td>NaN</td>\n      <td>$60K - $80K</td>\n      <td>Blue</td>\n      <td>36.0</td>\n      <td>3.0</td>\n      <td>3</td>\n      <td>2</td>\n      <td>18336.0</td>\n      <td>2077</td>\n      <td>0.718</td>\n      <td>7509</td>\n      <td>84</td>\n      <td>0.647</td>\n      <td>0.113</td>\n    </tr>\n  </tbody>\n</table>\n<p>10167 rows × 19 columns</p>\n</div>"
     },
     "execution_count": 77,
     "metadata": {},
     "output_type": "execute_result"
    }
   ],
   "source": [
    "import pandas as pd\n",
    "\n",
    "df = pd.read_csv('CreditPrediction.csv')\n",
    "\n",
    "\n",
    "# all the data in 'Unnamed: 19' column is zero, so we delete this column\n",
    "df.drop('Unnamed: 19', axis=1, inplace=True) \n",
    "df"
   ]
  },
  {
   "cell_type": "markdown",
   "source": [
    "- We convert Non-Numerical data to Numerical data"
   ],
   "metadata": {
    "collapsed": false
   },
   "id": "472defd52dc90130"
  },
  {
   "cell_type": "code",
   "outputs": [
    {
     "name": "stdout",
     "output_type": "stream",
     "text": [
      "<class 'pandas.core.frame.DataFrame'>\n",
      "RangeIndex: 10167 entries, 0 to 10166\n",
      "Data columns (total 25 columns):\n",
      " #   Column                    Non-Null Count  Dtype  \n",
      "---  ------                    --------------  -----  \n",
      " 0   CLIENTNUM                 10167 non-null  int64  \n",
      " 1   Customer_Age              10167 non-null  float64\n",
      " 2   Gender                    9968 non-null   float64\n",
      " 3   Dependent_count           10167 non-null  int64  \n",
      " 4   Education_Level           10167 non-null  int64  \n",
      " 5   Income_Category           10167 non-null  int64  \n",
      " 6   Months_on_book            9944 non-null   float64\n",
      " 7   Total_Relationship_Count  10147 non-null  float64\n",
      " 8   Months_Inactive_12_mon    10167 non-null  int64  \n",
      " 9   Contacts_Count_12_mon     10167 non-null  int64  \n",
      " 10  Credit_Limit              10167 non-null  float64\n",
      " 11  Total_Revolving_Bal       10167 non-null  int64  \n",
      " 12  Total_Amt_Chng_Q4_Q1      10167 non-null  float64\n",
      " 13  Total_Trans_Amt           10167 non-null  int64  \n",
      " 14  Total_Trans_Ct            10167 non-null  int64  \n",
      " 15  Total_Ct_Chng_Q4_Q1       10167 non-null  float64\n",
      " 16  Avg_Utilization_Ratio     10167 non-null  float64\n",
      " 17  Marital_Status_Divorced   10167 non-null  int32  \n",
      " 18  Marital_Status_Married    10167 non-null  int32  \n",
      " 19  Marital_Status_Single     10167 non-null  int32  \n",
      " 20  Marital_Status_Unknown    10167 non-null  int32  \n",
      " 21  Card_Category_Blue        10167 non-null  int32  \n",
      " 22  Card_Category_Gold        10167 non-null  int32  \n",
      " 23  Card_Category_Platinum    10167 non-null  int32  \n",
      " 24  Card_Category_Silver      10167 non-null  int32  \n",
      "dtypes: float64(8), int32(8), int64(9)\n",
      "memory usage: 1.6 MB\n"
     ]
    }
   ],
   "source": [
    "# Encoding Sequential Features Using Mapping\n",
    "df['Gender'] = df['Gender'].map({'F': 1, 'M': 2})\n",
    "\n",
    "df['Education_Level'] = df['Education_Level'].map({'Unknown': 1, 'Uneducated': 2,'High School': 3,\n",
    "                                                   'College': 4,'Graduate': 5, 'Post-Graduate': 6,\n",
    "                                                   'Doctorate': 7})\n",
    "\n",
    "df['Income_Category'] = df['Income_Category'].map({'Unknown': 1, 'Less than $40K': 2,\n",
    "                                                   '$40K - $60K': 3, '$60K - $80K': 4,\n",
    "                                                   '$80K - $120K': 5, '$120K +': 6})\n",
    "\n",
    "# Encoding Non-Sequential Features Using One-Hot Encoding\n",
    "df_encoded = pd.get_dummies(df['Marital_Status'], prefix='Marital_Status')\n",
    "df_encoded = df_encoded.astype(int)\n",
    "df = pd.concat([df, df_encoded], axis=1)\n",
    "df.drop('Marital_Status', axis=1, inplace=True)\n",
    "\n",
    "df_encoded = pd.get_dummies(df['Card_Category'], prefix='Card_Category')\n",
    "df_encoded = df_encoded.astype(int)\n",
    "df = pd.concat([df, df_encoded], axis=1)\n",
    "df.drop('Card_Category', axis=1, inplace=True)\n",
    "\n",
    "df.info()"
   ],
   "metadata": {
    "collapsed": false,
    "ExecuteTime": {
     "end_time": "2024-05-20T21:45:24.239250600Z",
     "start_time": "2024-05-20T21:45:24.093294400Z"
    }
   },
   "id": "f460775515a50d29",
   "execution_count": 75
  },
  {
   "cell_type": "markdown",
   "source": [
    "- Now we want to fill the NaN cells with Expectation-Maximization "
   ],
   "metadata": {
    "collapsed": false
   },
   "id": "b65c935bf47964de"
  },
  {
   "cell_type": "code",
   "outputs": [
    {
     "data": {
      "text/plain": "         CLIENTNUM  Customer_Age  Gender  Dependent_count  Education_Level  \\\n0      768805383.0          45.0     2.0              3.0              3.0   \n1      818770008.0          49.0     1.0              5.0              5.0   \n2      713982108.0          51.0     2.0              3.0              5.0   \n3      769911858.0          40.0     1.0              4.0              3.0   \n4      709106358.0          40.0     2.0              3.0              2.0   \n...            ...           ...     ...              ...              ...   \n10162  718673358.0          35.0     2.0              3.0              7.0   \n10163  715207458.0          46.0     1.0              1.0              1.0   \n10164  803665983.0          52.0     2.0              0.0              1.0   \n10165  713183508.0          39.0     1.0              1.0              3.0   \n10166  718893333.0          52.0     2.0              3.0              5.0   \n\n       Income_Category  Months_on_book  Total_Relationship_Count  \\\n0                  4.0            39.0                       5.0   \n1                  2.0            44.0                       6.0   \n2                  5.0            36.0                       4.0   \n3                  2.0            34.0                       3.0   \n4                  4.0            21.0                       5.0   \n...                ...             ...                       ...   \n10162              5.0            30.0                       5.0   \n10163              2.0            39.0                       2.0   \n10164              4.0            46.0                       3.0   \n10165              1.0            36.0                       1.0   \n10166              4.0            36.0                       3.0   \n\n       Months_Inactive_12_mon  Contacts_Count_12_mon  ...  \\\n0                         1.0                    3.0  ...   \n1                         1.0                    2.0  ...   \n2                         1.0                    0.0  ...   \n3                         4.0                    1.0  ...   \n4                         1.0                    0.0  ...   \n...                       ...                    ...  ...   \n10162                     3.0                    4.0  ...   \n10163                     2.0                    1.0  ...   \n10164                     2.0                    4.0  ...   \n10165                     3.0                    2.0  ...   \n10166                     3.0                    2.0  ...   \n\n       Total_Ct_Chng_Q4_Q1  Avg_Utilization_Ratio  Marital_Status_Divorced  \\\n0                    1.625                  0.061                      0.0   \n1                    3.714                  0.105                      0.0   \n2                    2.333                  0.000                      0.0   \n3                    2.333                  0.760                      0.0   \n4                    2.500                  0.000                      0.0   \n...                    ...                    ...                      ...   \n10162                0.486                  0.112                      0.0   \n10163                0.800                  0.529                      0.0   \n10164                0.532                  0.796                      0.0   \n10165                0.822                  0.421                      0.0   \n10166                0.647                  0.113                      0.0   \n\n       Marital_Status_Married  Marital_Status_Single  Marital_Status_Unknown  \\\n0                         1.0                    0.0                     0.0   \n1                         0.0                    0.0                     0.0   \n2                         1.0                    0.0                     0.0   \n3                         0.0                    0.0                     0.0   \n4                         1.0                    0.0                     0.0   \n...                       ...                    ...                     ...   \n10162                     0.0                    0.0                     0.0   \n10163                     0.0                    1.0                     0.0   \n10164                     0.0                    0.0                     0.0   \n10165                     0.0                    0.0                     0.0   \n10166                     0.0                    0.0                     0.0   \n\n       Card_Category_Blue  Card_Category_Gold  Card_Category_Platinum  \\\n0                     1.0                 0.0                     0.0   \n1                     1.0                 0.0                     0.0   \n2                     1.0                 0.0                     0.0   \n3                     1.0                 0.0                     0.0   \n4                     0.0                 0.0                     0.0   \n...                   ...                 ...                     ...   \n10162                 1.0                 0.0                     0.0   \n10163                 1.0                 0.0                     0.0   \n10164                 1.0                 0.0                     0.0   \n10165                 0.0                 0.0                     0.0   \n10166                 1.0                 0.0                     0.0   \n\n       Card_Category_Silver  \n0                       0.0  \n1                       0.0  \n2                       0.0  \n3                       0.0  \n4                       0.0  \n...                     ...  \n10162                   0.0  \n10163                   0.0  \n10164                   0.0  \n10165                   0.0  \n10166                   0.0  \n\n[10167 rows x 25 columns]",
      "text/html": "<div>\n<style scoped>\n    .dataframe tbody tr th:only-of-type {\n        vertical-align: middle;\n    }\n\n    .dataframe tbody tr th {\n        vertical-align: top;\n    }\n\n    .dataframe thead th {\n        text-align: right;\n    }\n</style>\n<table border=\"1\" class=\"dataframe\">\n  <thead>\n    <tr style=\"text-align: right;\">\n      <th></th>\n      <th>CLIENTNUM</th>\n      <th>Customer_Age</th>\n      <th>Gender</th>\n      <th>Dependent_count</th>\n      <th>Education_Level</th>\n      <th>Income_Category</th>\n      <th>Months_on_book</th>\n      <th>Total_Relationship_Count</th>\n      <th>Months_Inactive_12_mon</th>\n      <th>Contacts_Count_12_mon</th>\n      <th>...</th>\n      <th>Total_Ct_Chng_Q4_Q1</th>\n      <th>Avg_Utilization_Ratio</th>\n      <th>Marital_Status_Divorced</th>\n      <th>Marital_Status_Married</th>\n      <th>Marital_Status_Single</th>\n      <th>Marital_Status_Unknown</th>\n      <th>Card_Category_Blue</th>\n      <th>Card_Category_Gold</th>\n      <th>Card_Category_Platinum</th>\n      <th>Card_Category_Silver</th>\n    </tr>\n  </thead>\n  <tbody>\n    <tr>\n      <th>0</th>\n      <td>768805383.0</td>\n      <td>45.0</td>\n      <td>2.0</td>\n      <td>3.0</td>\n      <td>3.0</td>\n      <td>4.0</td>\n      <td>39.0</td>\n      <td>5.0</td>\n      <td>1.0</td>\n      <td>3.0</td>\n      <td>...</td>\n      <td>1.625</td>\n      <td>0.061</td>\n      <td>0.0</td>\n      <td>1.0</td>\n      <td>0.0</td>\n      <td>0.0</td>\n      <td>1.0</td>\n      <td>0.0</td>\n      <td>0.0</td>\n      <td>0.0</td>\n    </tr>\n    <tr>\n      <th>1</th>\n      <td>818770008.0</td>\n      <td>49.0</td>\n      <td>1.0</td>\n      <td>5.0</td>\n      <td>5.0</td>\n      <td>2.0</td>\n      <td>44.0</td>\n      <td>6.0</td>\n      <td>1.0</td>\n      <td>2.0</td>\n      <td>...</td>\n      <td>3.714</td>\n      <td>0.105</td>\n      <td>0.0</td>\n      <td>0.0</td>\n      <td>0.0</td>\n      <td>0.0</td>\n      <td>1.0</td>\n      <td>0.0</td>\n      <td>0.0</td>\n      <td>0.0</td>\n    </tr>\n    <tr>\n      <th>2</th>\n      <td>713982108.0</td>\n      <td>51.0</td>\n      <td>2.0</td>\n      <td>3.0</td>\n      <td>5.0</td>\n      <td>5.0</td>\n      <td>36.0</td>\n      <td>4.0</td>\n      <td>1.0</td>\n      <td>0.0</td>\n      <td>...</td>\n      <td>2.333</td>\n      <td>0.000</td>\n      <td>0.0</td>\n      <td>1.0</td>\n      <td>0.0</td>\n      <td>0.0</td>\n      <td>1.0</td>\n      <td>0.0</td>\n      <td>0.0</td>\n      <td>0.0</td>\n    </tr>\n    <tr>\n      <th>3</th>\n      <td>769911858.0</td>\n      <td>40.0</td>\n      <td>1.0</td>\n      <td>4.0</td>\n      <td>3.0</td>\n      <td>2.0</td>\n      <td>34.0</td>\n      <td>3.0</td>\n      <td>4.0</td>\n      <td>1.0</td>\n      <td>...</td>\n      <td>2.333</td>\n      <td>0.760</td>\n      <td>0.0</td>\n      <td>0.0</td>\n      <td>0.0</td>\n      <td>0.0</td>\n      <td>1.0</td>\n      <td>0.0</td>\n      <td>0.0</td>\n      <td>0.0</td>\n    </tr>\n    <tr>\n      <th>4</th>\n      <td>709106358.0</td>\n      <td>40.0</td>\n      <td>2.0</td>\n      <td>3.0</td>\n      <td>2.0</td>\n      <td>4.0</td>\n      <td>21.0</td>\n      <td>5.0</td>\n      <td>1.0</td>\n      <td>0.0</td>\n      <td>...</td>\n      <td>2.500</td>\n      <td>0.000</td>\n      <td>0.0</td>\n      <td>1.0</td>\n      <td>0.0</td>\n      <td>0.0</td>\n      <td>0.0</td>\n      <td>0.0</td>\n      <td>0.0</td>\n      <td>0.0</td>\n    </tr>\n    <tr>\n      <th>...</th>\n      <td>...</td>\n      <td>...</td>\n      <td>...</td>\n      <td>...</td>\n      <td>...</td>\n      <td>...</td>\n      <td>...</td>\n      <td>...</td>\n      <td>...</td>\n      <td>...</td>\n      <td>...</td>\n      <td>...</td>\n      <td>...</td>\n      <td>...</td>\n      <td>...</td>\n      <td>...</td>\n      <td>...</td>\n      <td>...</td>\n      <td>...</td>\n      <td>...</td>\n      <td>...</td>\n    </tr>\n    <tr>\n      <th>10162</th>\n      <td>718673358.0</td>\n      <td>35.0</td>\n      <td>2.0</td>\n      <td>3.0</td>\n      <td>7.0</td>\n      <td>5.0</td>\n      <td>30.0</td>\n      <td>5.0</td>\n      <td>3.0</td>\n      <td>4.0</td>\n      <td>...</td>\n      <td>0.486</td>\n      <td>0.112</td>\n      <td>0.0</td>\n      <td>0.0</td>\n      <td>0.0</td>\n      <td>0.0</td>\n      <td>1.0</td>\n      <td>0.0</td>\n      <td>0.0</td>\n      <td>0.0</td>\n    </tr>\n    <tr>\n      <th>10163</th>\n      <td>715207458.0</td>\n      <td>46.0</td>\n      <td>1.0</td>\n      <td>1.0</td>\n      <td>1.0</td>\n      <td>2.0</td>\n      <td>39.0</td>\n      <td>2.0</td>\n      <td>2.0</td>\n      <td>1.0</td>\n      <td>...</td>\n      <td>0.800</td>\n      <td>0.529</td>\n      <td>0.0</td>\n      <td>0.0</td>\n      <td>1.0</td>\n      <td>0.0</td>\n      <td>1.0</td>\n      <td>0.0</td>\n      <td>0.0</td>\n      <td>0.0</td>\n    </tr>\n    <tr>\n      <th>10164</th>\n      <td>803665983.0</td>\n      <td>52.0</td>\n      <td>2.0</td>\n      <td>0.0</td>\n      <td>1.0</td>\n      <td>4.0</td>\n      <td>46.0</td>\n      <td>3.0</td>\n      <td>2.0</td>\n      <td>4.0</td>\n      <td>...</td>\n      <td>0.532</td>\n      <td>0.796</td>\n      <td>0.0</td>\n      <td>0.0</td>\n      <td>0.0</td>\n      <td>0.0</td>\n      <td>1.0</td>\n      <td>0.0</td>\n      <td>0.0</td>\n      <td>0.0</td>\n    </tr>\n    <tr>\n      <th>10165</th>\n      <td>713183508.0</td>\n      <td>39.0</td>\n      <td>1.0</td>\n      <td>1.0</td>\n      <td>3.0</td>\n      <td>1.0</td>\n      <td>36.0</td>\n      <td>1.0</td>\n      <td>3.0</td>\n      <td>2.0</td>\n      <td>...</td>\n      <td>0.822</td>\n      <td>0.421</td>\n      <td>0.0</td>\n      <td>0.0</td>\n      <td>0.0</td>\n      <td>0.0</td>\n      <td>0.0</td>\n      <td>0.0</td>\n      <td>0.0</td>\n      <td>0.0</td>\n    </tr>\n    <tr>\n      <th>10166</th>\n      <td>718893333.0</td>\n      <td>52.0</td>\n      <td>2.0</td>\n      <td>3.0</td>\n      <td>5.0</td>\n      <td>4.0</td>\n      <td>36.0</td>\n      <td>3.0</td>\n      <td>3.0</td>\n      <td>2.0</td>\n      <td>...</td>\n      <td>0.647</td>\n      <td>0.113</td>\n      <td>0.0</td>\n      <td>0.0</td>\n      <td>0.0</td>\n      <td>0.0</td>\n      <td>1.0</td>\n      <td>0.0</td>\n      <td>0.0</td>\n      <td>0.0</td>\n    </tr>\n  </tbody>\n</table>\n<p>10167 rows × 25 columns</p>\n</div>"
     },
     "execution_count": 76,
     "metadata": {},
     "output_type": "execute_result"
    }
   ],
   "source": [
    "import numpy as np\n",
    "from sklearn.impute import SimpleImputer\n",
    "from sklearn.mixture import GaussianMixture\n",
    "\n",
    "# Initial Imputation\n",
    "initial_imputer = SimpleImputer(strategy='mean')\n",
    "df_imputed = initial_imputer.fit_transform(df)\n",
    "\n",
    "# Apply EM Algorithm\n",
    "gmm = GaussianMixture(n_components=2, max_iter=100, random_state=0)\n",
    "gmm.fit(df_imputed)\n",
    "\n",
    "for _ in range(10):  # Number of EM iterations\n",
    "    imputed_values = gmm.sample(n_samples=df.shape[0])[0]\n",
    "    df_imputed[np.isnan(df.values)] = imputed_values[np.isnan(df.values)]\n",
    "    gmm.fit(df_imputed)\n",
    "\n",
    "df_em_imputed = pd.DataFrame(df_imputed, columns=df.columns)\n",
    "\n",
    "df_em_imputed"
   ],
   "metadata": {
    "collapsed": false,
    "ExecuteTime": {
     "end_time": "2024-05-20T21:45:27.777012600Z",
     "start_time": "2024-05-20T21:45:25.943078500Z"
    }
   },
   "id": "6287c86b946323e7",
   "execution_count": 76
  },
  {
   "cell_type": "code",
   "outputs": [],
   "source": [],
   "metadata": {
    "collapsed": false
   },
   "id": "f4413b0b9001b6dc"
  }
 ],
 "metadata": {
  "kernelspec": {
   "display_name": "Python 3",
   "language": "python",
   "name": "python3"
  },
  "language_info": {
   "codemirror_mode": {
    "name": "ipython",
    "version": 2
   },
   "file_extension": ".py",
   "mimetype": "text/x-python",
   "name": "python",
   "nbconvert_exporter": "python",
   "pygments_lexer": "ipython2",
   "version": "2.7.6"
  }
 },
 "nbformat": 4,
 "nbformat_minor": 5
}
